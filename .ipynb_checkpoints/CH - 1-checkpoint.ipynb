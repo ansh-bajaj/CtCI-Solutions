{
 "cells": [
  {
   "cell_type": "markdown",
   "metadata": {},
   "source": [
    "# CH - 1"
   ]
  },
  {
   "cell_type": "markdown",
   "metadata": {},
   "source": [
    "1.1 Unique => My Solution"
   ]
  },
  {
   "cell_type": "code",
   "execution_count": 1,
   "metadata": {},
   "outputs": [
    {
     "ename": "KeyboardInterrupt",
     "evalue": "Interrupted by user",
     "output_type": "error",
     "traceback": [
      "\u001b[1;31m---------------------------------------------------------------------------\u001b[0m",
      "\u001b[1;31mKeyboardInterrupt\u001b[0m                         Traceback (most recent call last)",
      "\u001b[1;32m<ipython-input-1-bf399b8c2875>\u001b[0m in \u001b[0;36m<module>\u001b[1;34m\u001b[0m\n\u001b[1;32m----> 1\u001b[1;33m \u001b[0ms\u001b[0m\u001b[1;33m=\u001b[0m\u001b[0mstr\u001b[0m\u001b[1;33m(\u001b[0m\u001b[0minput\u001b[0m\u001b[1;33m(\u001b[0m\u001b[1;33m)\u001b[0m\u001b[1;33m)\u001b[0m\u001b[1;33m\u001b[0m\u001b[1;33m\u001b[0m\u001b[0m\n\u001b[0m\u001b[0;32m      2\u001b[0m \u001b[0mprint\u001b[0m\u001b[1;33m(\u001b[0m\u001b[1;33m[\u001b[0m\u001b[1;34m\"YES ALL UNIQUE!\"\u001b[0m \u001b[1;32mif\u001b[0m \u001b[0mlen\u001b[0m\u001b[1;33m(\u001b[0m\u001b[0ms\u001b[0m\u001b[1;33m)\u001b[0m\u001b[1;33m==\u001b[0m\u001b[0mlen\u001b[0m\u001b[1;33m(\u001b[0m\u001b[0mset\u001b[0m\u001b[1;33m(\u001b[0m\u001b[0ms\u001b[0m\u001b[1;33m)\u001b[0m\u001b[1;33m)\u001b[0m \u001b[1;32melse\u001b[0m \u001b[1;34m\"NOT UNIQUE!\"\u001b[0m\u001b[1;33m]\u001b[0m\u001b[1;33m)\u001b[0m\u001b[1;33m\u001b[0m\u001b[1;33m\u001b[0m\u001b[0m\n",
      "\u001b[1;32m~\\anaconda3\\lib\\site-packages\\ipykernel\\kernelbase.py\u001b[0m in \u001b[0;36mraw_input\u001b[1;34m(self, prompt)\u001b[0m\n\u001b[0;32m    858\u001b[0m                 \u001b[1;34m\"raw_input was called, but this frontend does not support input requests.\"\u001b[0m\u001b[1;33m\u001b[0m\u001b[1;33m\u001b[0m\u001b[0m\n\u001b[0;32m    859\u001b[0m             )\n\u001b[1;32m--> 860\u001b[1;33m         return self._input_request(str(prompt),\n\u001b[0m\u001b[0;32m    861\u001b[0m             \u001b[0mself\u001b[0m\u001b[1;33m.\u001b[0m\u001b[0m_parent_ident\u001b[0m\u001b[1;33m,\u001b[0m\u001b[1;33m\u001b[0m\u001b[1;33m\u001b[0m\u001b[0m\n\u001b[0;32m    862\u001b[0m             \u001b[0mself\u001b[0m\u001b[1;33m.\u001b[0m\u001b[0m_parent_header\u001b[0m\u001b[1;33m,\u001b[0m\u001b[1;33m\u001b[0m\u001b[1;33m\u001b[0m\u001b[0m\n",
      "\u001b[1;32m~\\anaconda3\\lib\\site-packages\\ipykernel\\kernelbase.py\u001b[0m in \u001b[0;36m_input_request\u001b[1;34m(self, prompt, ident, parent, password)\u001b[0m\n\u001b[0;32m    902\u001b[0m             \u001b[1;32mexcept\u001b[0m \u001b[0mKeyboardInterrupt\u001b[0m\u001b[1;33m:\u001b[0m\u001b[1;33m\u001b[0m\u001b[1;33m\u001b[0m\u001b[0m\n\u001b[0;32m    903\u001b[0m                 \u001b[1;31m# re-raise KeyboardInterrupt, to truncate traceback\u001b[0m\u001b[1;33m\u001b[0m\u001b[1;33m\u001b[0m\u001b[1;33m\u001b[0m\u001b[0m\n\u001b[1;32m--> 904\u001b[1;33m                 \u001b[1;32mraise\u001b[0m \u001b[0mKeyboardInterrupt\u001b[0m\u001b[1;33m(\u001b[0m\u001b[1;34m\"Interrupted by user\"\u001b[0m\u001b[1;33m)\u001b[0m \u001b[1;32mfrom\u001b[0m \u001b[1;32mNone\u001b[0m\u001b[1;33m\u001b[0m\u001b[1;33m\u001b[0m\u001b[0m\n\u001b[0m\u001b[0;32m    905\u001b[0m             \u001b[1;32mexcept\u001b[0m \u001b[0mException\u001b[0m \u001b[1;32mas\u001b[0m \u001b[0me\u001b[0m\u001b[1;33m:\u001b[0m\u001b[1;33m\u001b[0m\u001b[1;33m\u001b[0m\u001b[0m\n\u001b[0;32m    906\u001b[0m                 \u001b[0mself\u001b[0m\u001b[1;33m.\u001b[0m\u001b[0mlog\u001b[0m\u001b[1;33m.\u001b[0m\u001b[0mwarning\u001b[0m\u001b[1;33m(\u001b[0m\u001b[1;34m\"Invalid Message:\"\u001b[0m\u001b[1;33m,\u001b[0m \u001b[0mexc_info\u001b[0m\u001b[1;33m=\u001b[0m\u001b[1;32mTrue\u001b[0m\u001b[1;33m)\u001b[0m\u001b[1;33m\u001b[0m\u001b[1;33m\u001b[0m\u001b[0m\n",
      "\u001b[1;31mKeyboardInterrupt\u001b[0m: Interrupted by user"
     ]
    }
   ],
   "source": [
    "s=str(input())\n",
    "print([\"YES ALL UNIQUE!\" if len(s)==len(set(s)) else \"NOT UNIQUE!\"])"
   ]
  },
  {
   "cell_type": "markdown",
   "metadata": {},
   "source": [
    "1.1 => Hints:\n",
    "                Hash Table\n",
    "                O(Nlogn) solution\n",
    "                Bit vector"
   ]
  },
  {
   "cell_type": "code",
   "execution_count": null,
   "metadata": {},
   "outputs": [],
   "source": [
    "def areCharactersUnique(s):\n",
    "     \n",
    "    # An integer to store presence/absence\n",
    "    # of 26 characters using its 32 bits\n",
    "    checker = 0\n",
    "     \n",
    "    for i in range(len(s)):\n",
    "         \n",
    "        val = ord(s[i]) - ord('a')\n",
    "         \n",
    "        # If bit corresponding to current\n",
    "        # character is already set\n",
    "        if (checker & (1 << val)) > 0:\n",
    "            return False\n",
    "         \n",
    "        # set bit in checker\n",
    "        checker |= (1 << val)\n",
    "         \n",
    "    return True\n",
    "     \n",
    "# Driver code\n",
    "s = str(input())\n",
    "if areCharactersUnique(s):\n",
    "    print(\"Yes\")\n",
    "else:\n",
    "    print(\"No\")"
   ]
  },
  {
   "cell_type": "markdown",
   "metadata": {},
   "source": [
    "1.2 Permutation => My Solution"
   ]
  },
  {
   "cell_type": "code",
   "execution_count": null,
   "metadata": {},
   "outputs": [],
   "source": [
    "def checkPerm(s1,s2):\n",
    "    if len(s1)!=len(s2):\n",
    "        return False\n",
    "    s1=list(s1)\n",
    "    s2=list(s2)\n",
    "    s1.sort()\n",
    "    s2.sort()\n",
    "    s1 = ''.join(s1[i] for i in range(len(s1)))\n",
    "    s2 = ''.join(s2[i] for i in range(len(s2)))\n",
    "    return True if s1==s2 else False\n",
    "s1=str(input())\n",
    "s2=str(input())\n",
    "checkPerm(s1,s2)"
   ]
  },
  {
   "cell_type": "markdown",
   "metadata": {},
   "source": [
    "1.2 Permutation => Efficient\n",
    "        Character Count"
   ]
  },
  {
   "cell_type": "code",
   "execution_count": null,
   "metadata": {},
   "outputs": [],
   "source": [
    "def check_permutation_by_count(str1, str2):\n",
    "    if len(str1) != len(str2):\n",
    "        return False\n",
    "    counter = [0] * 256\n",
    "    for c in str1:\n",
    "        counter[ord(c)] += 1\n",
    "    for c in str2:\n",
    "        if counter[ord(c)] == 0:\n",
    "            return False\n",
    "        counter[ord(c)] -= 1\n",
    "    return True"
   ]
  },
  {
   "cell_type": "markdown",
   "metadata": {},
   "source": [
    "1.2 Permutation => Pythonic"
   ]
  },
  {
   "cell_type": "code",
   "execution_count": null,
   "metadata": {},
   "outputs": [],
   "source": [
    "from collections import Counter\n",
    "def check_permutation_pythonic(str1, str2):\n",
    "    if len(str1) != len(str2):\n",
    "        return False\n",
    "    return Counter(str1) == Counter(str2)"
   ]
  },
  {
   "cell_type": "markdown",
   "metadata": {},
   "source": [
    "1.3 URlify => Solution"
   ]
  },
  {
   "cell_type": "code",
   "execution_count": null,
   "metadata": {},
   "outputs": [],
   "source": [
    "s=str(input())\n",
    "new_s=[]\n",
    "if s[-1]==\" \":\n",
    "    s=s[:-1]\n",
    "if s[0]==' ':\n",
    "    s=s[1:]\n",
    "for c in s:\n",
    "    if c==' ':\n",
    "        new_s.append(\"%\")\n",
    "        new_s.append(\"2\")        \n",
    "        new_s.append(\"0\")\n",
    "    else:\n",
    "        new_s.append(c)\n",
    "''.join(c for c in new_s)"
   ]
  },
  {
   "cell_type": "markdown",
   "metadata": {},
   "source": [
    "1.3 URlify => Pythonic Solution"
   ]
  },
  {
   "cell_type": "code",
   "execution_count": null,
   "metadata": {},
   "outputs": [],
   "source": [
    "s=str(input())\n",
    "s.strip().replace(\" \",\"%20\")"
   ]
  },
  {
   "cell_type": "markdown",
   "metadata": {},
   "source": [
    "1.4 Palindrome Permutation => Solution"
   ]
  },
  {
   "cell_type": "code",
   "execution_count": 6,
   "metadata": {},
   "outputs": [
    {
     "name": "stdout",
     "output_type": "stream",
     "text": [
      "anah\n"
     ]
    },
    {
     "data": {
      "text/plain": [
       "False"
      ]
     },
     "execution_count": 6,
     "metadata": {},
     "output_type": "execute_result"
    }
   ],
   "source": [
    "def palinPerm(s):\n",
    "    char_count = [0]*128\n",
    "    for c in s:\n",
    "        char_count[ord(c)]+=1\n",
    "    count = 0\n",
    "    for i in range(len(char_count)):\n",
    "        count+=char_count[i]%2\n",
    "    return count<=1\n",
    "palinPerm(str(input()))"
   ]
  },
  {
   "cell_type": "markdown",
   "metadata": {},
   "source": [
    "1.4 Palindrome Permutation => Bit Vector Solution"
   ]
  },
  {
   "cell_type": "code",
   "execution_count": 11,
   "metadata": {},
   "outputs": [
    {
     "name": "stdout",
     "output_type": "stream",
     "text": [
      "anah\n"
     ]
    },
    {
     "data": {
      "text/plain": [
       "False"
      ]
     },
     "execution_count": 11,
     "metadata": {},
     "output_type": "execute_result"
    }
   ],
   "source": [
    "def is_palindrome_bit_vector(phrase):\n",
    "    r = 0\n",
    "    for c in phrase:\n",
    "        val = ord(c)\n",
    "        mask = 1 << val\n",
    "        if r & mask:\n",
    "            r &= ~mask\n",
    "        else:\n",
    "            r |= mask\n",
    "    return (r - 1) & r == 0\n",
    "is_palindrome_bit_vector(str(input()))"
   ]
  },
  {
   "cell_type": "markdown",
   "metadata": {},
   "source": [
    "1.5 One Edit Away => Solution"
   ]
  },
  {
   "cell_type": "code",
   "execution_count": 43,
   "metadata": {},
   "outputs": [
    {
     "name": "stdout",
     "output_type": "stream",
     "text": [
      "String 1: ansh\n",
      "String 2: anan\n"
     ]
    },
    {
     "data": {
      "text/plain": [
       "False"
      ]
     },
     "execution_count": 43,
     "metadata": {},
     "output_type": "execute_result"
    }
   ],
   "source": [
    "def are_one_edit_different(s1, s2):\n",
    "    \"\"\"Check if a string can converted to another string with a single edit\"\"\"\n",
    "    if len(s1) == len(s2):\n",
    "        return one_edit_replace(s1, s2)\n",
    "    if len(s1) + 1 == len(s2):\n",
    "        return one_edit_insert(s1, s2)\n",
    "    if len(s1) - 1 == len(s2):\n",
    "        return one_edit_insert(s2, s1)  # noqa\n",
    "    return False\n",
    "\n",
    "def one_edit_replace(s1, s2):\n",
    "    edited = False\n",
    "    for c1, c2 in zip(s1, s2):\n",
    "        if c1 != c2:\n",
    "            if edited:\n",
    "                return False\n",
    "            edited = True\n",
    "    return True\n",
    "\n",
    "\n",
    "def one_edit_insert(s1, s2):\n",
    "    edited = False\n",
    "    i, j = 0, 0\n",
    "    while i < len(s1) and j < len(s2):\n",
    "        if s1[i] != s2[j]:\n",
    "            if edited:\n",
    "                return False\n",
    "            edited = True\n",
    "            j += 1\n",
    "        else:\n",
    "            i += 1\n",
    "            j += 1\n",
    "    return True\n",
    "    \n",
    "        \n",
    "are_one_edit_different(str(input(\"String 1: \")),str(input(\"String 2: \")))"
   ]
  },
  {
   "cell_type": "markdown",
   "metadata": {},
   "source": [
    "1.6 String Compression => Solution"
   ]
  },
  {
   "cell_type": "code",
   "execution_count": 53,
   "metadata": {},
   "outputs": [
    {
     "name": "stdout",
     "output_type": "stream",
     "text": [
      "String to be compressed: aa\n"
     ]
    },
    {
     "data": {
      "text/plain": [
       "'aa'"
      ]
     },
     "execution_count": 53,
     "metadata": {},
     "output_type": "execute_result"
    }
   ],
   "source": [
    "def compress(s):\n",
    "    compressed=\"\"\n",
    "    count=0\n",
    "    for i in range(len(s)):\n",
    "        count+=1\n",
    "        if i+1>=len(s) or s[i]!=s[i+1]:\n",
    "            compressed+=s[i]\n",
    "            compressed+=str(count)\n",
    "            count=0\n",
    "    return compressed if len(compressed)<len(s) else s\n",
    "compress(str(input(\"String to be compressed: \")))"
   ]
  },
  {
   "cell_type": "markdown",
   "metadata": {},
   "source": [
    "1.7 Rotate Matrix => My Solution"
   ]
  },
  {
   "cell_type": "code",
   "execution_count": 15,
   "metadata": {},
   "outputs": [
    {
     "name": "stdout",
     "output_type": "stream",
     "text": [
      "3\n",
      "3\n",
      "[[7, 4, 1], [8, 5, 2], [9, 6, 3]]\n"
     ]
    }
   ],
   "source": [
    "def rotate_matrix(matrix):\n",
    "    \"\"\"rotates a matrix 90 degrees clockwise\"\"\"\n",
    "    n = len(matrix)\n",
    "    for layer in range(n // 2):\n",
    "        first, last = layer, n - layer - 1\n",
    "        for i in range(first, last):\n",
    "            offset = i-first\n",
    "            # save top\n",
    "            top = matrix[first][i]\n",
    "\n",
    "            # left -> top\n",
    "            matrix[first][i] = matrix[last-offset][first]\n",
    "\n",
    "            # bottom -> left\n",
    "            matrix[last-offset][first] = matrix[last][last-offset]\n",
    "\n",
    "            # right -> bottom\n",
    "            matrix[last][last-offset] = matrix[i][last]\n",
    "\n",
    "            # top -> right\n",
    "            matrix[i][last] = top\n",
    "    return matrix\n",
    "s=[[1,2,3],[4,5,6],[7,8,9]]\n",
    "print(len(s))\n",
    "print(s[0][2])\n",
    "print(rotate_matrix([[1,2,3],[4,5,6],[7,8,9]]))"
   ]
  },
  {
   "cell_type": "code",
   "execution_count": 14,
   "metadata": {},
   "outputs": [
    {
     "data": {
      "text/plain": [
       "[[7, 4, 1], [8, 5, 2], [9, 6, 3]]"
      ]
     },
     "execution_count": 14,
     "metadata": {},
     "output_type": "execute_result"
    }
   ],
   "source": [
    "def rotate_matrix_pythonic_alternate(matrix):\n",
    "    \"\"\"rotates a matrix 90 degrees clockwise\"\"\"\n",
    "    return [list(reversed(row)) for row in zip(*matrix)]\n",
    "matrix = [[1,2,3],[4,5,6],[7,8,9]]\n",
    "rotate_matrix_pythonic_alternate(matrix)"
   ]
  },
  {
   "cell_type": "markdown",
   "metadata": {},
   "source": [
    "1.8 Zero Matrix => Solution"
   ]
  },
  {
   "cell_type": "code",
   "execution_count": 16,
   "metadata": {},
   "outputs": [
    {
     "data": {
      "text/plain": [
       "[[0, 0, 0], [4, 0, 0], [0, 0, 0]]"
      ]
     },
     "execution_count": 16,
     "metadata": {},
     "output_type": "execute_result"
    }
   ],
   "source": [
    "def zero_matrix(matrix):\n",
    "    m = len(matrix)\n",
    "    n = len(matrix[0])\n",
    "    rows = set()\n",
    "    cols = set()\n",
    "\n",
    "    for x in range(m):\n",
    "        for y in range(n):\n",
    "            if matrix[x][y] == 0:\n",
    "                rows.add(x)\n",
    "                cols.add(y)\n",
    "\n",
    "    for x in range(m):\n",
    "        for y in range(n):\n",
    "            if (x in rows) or (y in cols):\n",
    "                matrix[x][y] = 0\n",
    "\n",
    "    return matrix\n",
    "matrix = [[1,0,3],[4,5,6],[7,8,0]]\n",
    "zero_matrix(matrix)"
   ]
  },
  {
   "cell_type": "code",
   "execution_count": 34,
   "metadata": {},
   "outputs": [
    {
     "data": {
      "text/plain": [
       "[[0, 0, 0], [4, 0, 0], [0, 0, 0]]"
      ]
     },
     "execution_count": 34,
     "metadata": {},
     "output_type": "execute_result"
    }
   ],
   "source": [
    "def zero_matrix_pythonic(matrix):\n",
    "    matrix = [[\"X\" if x == 0 else x for x in row] for row in matrix]\n",
    "    cols = []\n",
    "    for idx, row in enumerate(matrix):\n",
    "        if \"X\" in row:\n",
    "            cols = cols + [i for i, j in enumerate(row) if j == \"X\"]\n",
    "            matrix[idx] = [0] * len(matrix[0])\n",
    "    matrix = [[0 if row.index(i) in cols else i for i in row] for row in matrix] \n",
    "    return matrix\n",
    "matrix = [[1,0,3],[4,5,6],[7,8,0]]\n",
    "zero_matrix_pythonic(matrix)"
   ]
  },
  {
   "cell_type": "markdown",
   "metadata": {},
   "source": [
    "1.9 String Rotation => Solution"
   ]
  },
  {
   "cell_type": "code",
   "execution_count": 37,
   "metadata": {},
   "outputs": [
    {
     "data": {
      "text/plain": [
       "True"
      ]
     },
     "execution_count": 37,
     "metadata": {},
     "output_type": "execute_result"
    }
   ],
   "source": [
    "def string_rotation(s1, s2):\n",
    "    if len(s1) == len(s2) != 0:\n",
    "        return s2 in s1 * 2\n",
    "    return False\n",
    "string_rotation('aaab','aaba')"
   ]
  },
  {
   "cell_type": "code",
   "execution_count": null,
   "metadata": {},
   "outputs": [],
   "source": []
  }
 ],
 "metadata": {
  "kernelspec": {
   "display_name": "Python 3",
   "language": "python",
   "name": "python3"
  },
  "language_info": {
   "codemirror_mode": {
    "name": "ipython",
    "version": 3
   },
   "file_extension": ".py",
   "mimetype": "text/x-python",
   "name": "python",
   "nbconvert_exporter": "python",
   "pygments_lexer": "ipython3",
   "version": "3.8.3"
  }
 },
 "nbformat": 4,
 "nbformat_minor": 2
}
